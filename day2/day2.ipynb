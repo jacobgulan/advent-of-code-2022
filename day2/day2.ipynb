{
 "cells": [
  {
   "cell_type": "markdown",
   "metadata": {},
   "source": [
    "# Day 2: Rock Paper Scissors\n",
    "\n",
    "---\n",
    "\n",
    "## Puzzle 1\n",
    "\n",
    "### Problem\n",
    "\n",
    "The Elves begin to set up camp on the beach. To decide whose tent gets to be closest to the snack storage, a giant Rock Paper Scissors tournament is already in progress.\n",
    "\n",
    "Rock Paper Scissors is a game between two players. Each game contains many rounds; in each round, the players each simultaneously choose one of Rock, Paper, or Scissors using a hand shape. Then, a winner for that round is selected: Rock defeats Scissors, Scissors defeats Paper, and Paper defeats Rock. If both players choose the same shape, the round instead ends in a draw.\n",
    "\n",
    "Appreciative of your help yesterday, one Elf gives you an encrypted strategy guide (your puzzle input) that they say will be sure to help you win. \"The first column is what your opponent is going to play: A for Rock, B for Paper, and C for Scissors. The second column--\" Suddenly, the Elf is called away to help with someone's tent.\n",
    "\n",
    "The second column, you reason, must be what you should play in response: X for Rock, Y for Paper, and Z for Scissors. Winning every time would be suspicious, so the responses must have been carefully chosen.\n",
    "\n",
    "The winner of the whole tournament is the player with the highest score. Your total score is the sum of your scores for each round. The score for a single round is the score for the shape you selected (1 for Rock, 2 for Paper, and 3 for Scissors) plus the score for the outcome of the round (0 if you lost, 3 if the round was a draw, and 6 if you won).\n",
    "\n",
    "Since you can't be sure if the Elf is trying to help you or trick you, you should calculate the score you would get if you were to follow the strategy guide.\n",
    "\n",
    "For example, suppose you were given the following strategy guide:\n",
    "\n",
    "A Y\n",
    "B X\n",
    "C Z\n",
    "\n",
    "This strategy guide predicts and recommends the following:\n",
    "\n",
    "    In the first round, your opponent will choose Rock (A), and you should choose Paper (Y). This ends in a win for you with a score of 8 (2 because you chose Paper + 6 because you won).\n",
    "    In the second round, your opponent will choose Paper (B), and you should choose Rock (X). This ends in a loss for you with a score of 1 (1 + 0).\n",
    "    The third round is a draw with both players choosing Scissors, giving you a score of 3 + 3 = 6.\n",
    "\n",
    "In this example, if you were to follow the strategy guide, you would get a total score of 15 (8 + 1 + 6).\n",
    "\n",
    "What would your total score be if everything goes exactly according to your strategy guide?\n"
   ]
  },
  {
   "cell_type": "markdown",
   "metadata": {},
   "source": [
    "### Solution"
   ]
  },
  {
   "cell_type": "code",
   "execution_count": 175,
   "metadata": {},
   "outputs": [],
   "source": [
    "rock, paper, scissors = ['A', 'X', 1],  ['B', 'Y', 2], ['C', 'Z', 3]\n",
    "choices = [rock, paper, scissors]\n",
    "\n",
    "def get_score(opponent_choice: str , player_choice: str) -> int:\n",
    "    \"\"\"Gets the score of a rock, paper, scissors game\n",
    "    \n",
    "    Args:\n",
    "        opponent_choice (str): The opponent's choice\n",
    "        player_choice (str): The player's choice\n",
    "        \n",
    "    Returns:\n",
    "        int: The player's score\n",
    "    \"\"\"\n",
    "    def _determine_choice(choice):\n",
    "        \"\"\"Determines the player's choice\n",
    "\n",
    "        Returns:\n",
    "            list: The player's choice\n",
    "        \"\"\"\n",
    "        if choice in rock:\n",
    "            return rock\n",
    "        if choice in paper:\n",
    "            return paper\n",
    "        if choice in scissors:\n",
    "            return scissors\n",
    "    \n",
    "    def _is_opponent_winner(opponent_choice, player_choice):\n",
    "        \"\"\"Checks if the opponent is the winner\n",
    "\n",
    "        Returns:\n",
    "            bool: True if the opponent is the winner, False otherwise\n",
    "        \"\"\"\n",
    "        if opponent_choice == rock:\n",
    "            return player_choice == scissors\n",
    "        if opponent_choice == paper:\n",
    "            return player_choice == rock\n",
    "        if opponent_choice == scissors:\n",
    "            return player_choice == paper\n",
    "\n",
    "    opponent_choice = _determine_choice(opponent_choice)\n",
    "    player_choice = _determine_choice(player_choice)\n",
    "\n",
    "    if opponent_choice == player_choice:\n",
    "        score = 3  # Tie\n",
    "    elif _is_opponent_winner(opponent_choice, player_choice):\n",
    "        score = 0  # Opponent wins\n",
    "    else:\n",
    "        score = 6  # Player wins\n",
    "    return score + player_choice[2]\n"
   ]
  },
  {
   "cell_type": "code",
   "execution_count": 176,
   "metadata": {},
   "outputs": [
    {
     "name": "stdout",
     "output_type": "stream",
     "text": [
      "Part 1: 14531\n"
     ]
    }
   ],
   "source": [
    "with open(\"day2.txt\", 'r') as puzzle_input:\n",
    "    games = puzzle_input.read().splitlines()\n",
    "    games = [match.split() for match in games]\n",
    "    scores = [get_score(match[0], match[1]) for match in games]\n",
    "    print(f\"Part 1: {sum(scores)}\")"
   ]
  },
  {
   "cell_type": "markdown",
   "metadata": {},
   "source": [
    "## Puzzle 2\n",
    "\n",
    "### Problem\n",
    "\n",
    "The Elf finishes helping with the tent and sneaks back over to you. \"Anyway, the second column says how the round needs to end: X means you need to lose, Y means you need to end the round in a draw, and Z means you need to win. Good luck!\"\n",
    "\n",
    "The total score is still calculated in the same way, but now you need to figure out what shape to choose so the round ends as indicated. The example above now goes like this:\n",
    "\n",
    "    In the first round, your opponent will choose Rock (A), and you need the round to end in a draw (Y), so you also choose Rock. This gives you a score of 1 + 3 = 4.\n",
    "    In the second round, your opponent will choose Paper (B), and you choose Rock so you lose (X) with a score of 1 + 0 = 1.\n",
    "    In the third round, you will defeat your opponent's Scissors with Rock for a score of 1 + 6 = 7.\n",
    "\n",
    "Now that you're correctly decrypting the ultra top secret strategy guide, you would get a total score of 12.\n",
    "\n",
    "Following the Elf's instructions for the second column, what would your total score be if everything goes exactly according to your strategy guide?\n",
    "\n",
    "### Solution"
   ]
  },
  {
   "cell_type": "code",
   "execution_count": 177,
   "metadata": {},
   "outputs": [],
   "source": [
    "rock, paper, scissors = ['A', 1],  ['B', 2], ['C', 3]\n",
    "choices = [rock, paper, scissors]\n",
    "\n",
    "def get_score(match: list[str]) -> int:\n",
    "    \"\"\"Gets the score of a rock, paper, scissors game\n",
    "    \n",
    "    Args:\n",
    "        opponent_choice (str): The opponent's choice\n",
    "        player_choice (str): The player's choice\n",
    "        \n",
    "    Returns:\n",
    "        int: The player's score\n",
    "    \"\"\"\n",
    "    def _determine_opponent_choice(choice):\n",
    "        \"\"\"Determines the opponent's choice\n",
    "\n",
    "        Returns:\n",
    "            list: The opponent's choice\n",
    "        \"\"\"\n",
    "        if choice in rock:\n",
    "            return rock\n",
    "        if choice in paper:\n",
    "            return paper\n",
    "        if choice in scissors:\n",
    "            return scissors\n",
    "\n",
    "    def _determine_player_choice(match):\n",
    "        \"\"\"Determines the opponent's choice\n",
    "\n",
    "        Returns:\n",
    "            list: The opponent's choice\n",
    "        \"\"\"\n",
    "        opponent_choice = _determine_choice(match[0])\n",
    "        outcome = match[1]\n",
    "\n",
    "        if outcome == 'X':\n",
    "            # To lose, take the previous index in the list of choices\n",
    "            return choices[(choices.index(opponent_choice) - 1) % len(choices)]\n",
    "        elif outcome == 'Y':\n",
    "            # Tie\n",
    "            return opponent_choice\n",
    "        elif outcome == 'Z':\n",
    "            # To win, take the next index in the list of choices\n",
    "            return choices[(choices.index(opponent_choice) + 1) % len(choices)]\n",
    "    \n",
    "    def _is_opponent_winner(opponent_choice, player_choice):\n",
    "        \"\"\"Checks if the opponent is the winner\n",
    "\n",
    "        Returns:\n",
    "            bool: True if the opponent is the winner, False otherwise\n",
    "        \"\"\"\n",
    "        if opponent_choice == rock:\n",
    "            return player_choice == scissors\n",
    "        if opponent_choice == paper:\n",
    "            return player_choice == rock\n",
    "        if opponent_choice == scissors:\n",
    "            return player_choice == paper\n",
    "\n",
    "    opponent_choice = _determine_choice(match[0])\n",
    "    player_choice = _determine_player_choice(match)\n",
    "\n",
    "    if opponent_choice == player_choice:\n",
    "        score = 3  # Tie\n",
    "    elif _is_opponent_winner(opponent_choice, player_choice):\n",
    "        score = 0  # Opponent wins\n",
    "    else:\n",
    "        score = 6  # Player wins\n",
    "    return score + player_choice[1]\n"
   ]
  },
  {
   "cell_type": "code",
   "execution_count": 178,
   "metadata": {},
   "outputs": [
    {
     "name": "stdout",
     "output_type": "stream",
     "text": [
      "Part 2: 11258\n"
     ]
    }
   ],
   "source": [
    "with open(\"day2.txt\", 'r') as puzzle_input:\n",
    "    games = puzzle_input.read().splitlines()\n",
    "    games = [match.split() for match in games]\n",
    "    scores = [get_score(match) for match in games]\n",
    "    print(f\"Part 2: {sum(scores)}\")"
   ]
  }
 ],
 "metadata": {
  "kernelspec": {
   "display_name": "Python 3.10.6 ('advent-venv': venv)",
   "language": "python",
   "name": "python3"
  },
  "language_info": {
   "codemirror_mode": {
    "name": "ipython",
    "version": 3
   },
   "file_extension": ".py",
   "mimetype": "text/x-python",
   "name": "python",
   "nbconvert_exporter": "python",
   "pygments_lexer": "ipython3",
   "version": "3.10.6"
  },
  "orig_nbformat": 4,
  "vscode": {
   "interpreter": {
    "hash": "5e364cd240fdb9ffe2f831670ffd3691ac59888bca68a90b6ed4f18806f14362"
   }
  }
 },
 "nbformat": 4,
 "nbformat_minor": 2
}
