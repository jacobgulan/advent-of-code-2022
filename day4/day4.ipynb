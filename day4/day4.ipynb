{
 "cells": [
  {
   "attachments": {},
   "cell_type": "markdown",
   "metadata": {},
   "source": [
    "# Day 4: Camp Cleanup\n",
    "## Puzzle 1\n",
    "### Problem\n",
    "\n",
    "Space needs to be cleared before the last supplies can be unloaded from the ships, and so several Elves have been assigned the job of cleaning up sections of the camp. Every section has a unique ID number, and each Elf is assigned a range of section IDs.\n",
    "\n",
    "However, as some of the Elves compare their section assignments with each other, they've noticed that many of the assignments overlap. To try to quickly find overlaps and reduce duplicated effort, the Elves pair up and make a big list of the section assignments for each pair (your puzzle input).\n",
    "\n",
    "For example, consider the following list of section assignment pairs:\n",
    "\n",
    "    2-4,6-8\n",
    "    2-3,4-5\n",
    "    5-7,7-9\n",
    "    2-8,3-7\n",
    "    6-6,4-6\n",
    "    2-6,4-8\n",
    "\n",
    "For the first few pairs, this list means:\n",
    "\n",
    "    Within the first pair of Elves, the first Elf was assigned sections 2-4 (sections 2, 3, and 4), while the second Elf was assigned sections 6-8 (sections 6, 7, 8).\n",
    "    The Elves in the second pair were each assigned two sections.\n",
    "    The Elves in the third pair were each assigned three sections: one got sections 5, 6, and 7, while the other also got 7, plus 8 and 9.\n",
    "\n",
    "This example list uses single-digit section IDs to make it easier to draw; your actual list might contain larger numbers. Visually, these pairs of section assignments look like this:\n",
    "\n",
    "    .234.....  2-4\n",
    "    .....678.  6-8\n",
    "\n",
    "    .23......  2-3\n",
    "    ...45....  4-5\n",
    "\n",
    "    ....567..  5-7\n",
    "    ......789  7-9\n",
    "\n",
    "    .2345678.  2-8\n",
    "    ..34567..  3-7\n",
    "\n",
    "    .....6...  6-6\n",
    "    ...456...  4-6\n",
    "\n",
    "    .23456...  2-6\n",
    "    ...45678.  4-8\n",
    "\n",
    "Some of the pairs have noticed that one of their assignments fully contains the other. For example, 2-8 fully contains 3-7, and 6-6 is fully contained by 4-6. In pairs where one assignment fully contains the other, one Elf in the pair would be exclusively cleaning sections their partner will already be cleaning, so these seem like the most in need of reconsideration. In this example, there are 2 such pairs.\n",
    "\n",
    "In how many assignment pairs does one range fully contain the other?\n",
    "\n",
    "### Solution\n"
   ]
  },
  {
   "cell_type": "code",
   "execution_count": 4,
   "metadata": {},
   "outputs": [],
   "source": [
    "def is_fully_contained(elf_pair: list[str]):\n",
    "    '''Determines if one elf's range is fully contained by the other'''\n",
    "    x1, y1 = map(int, elf_pair[0].split(\"-\"))\n",
    "    x2, y2 = map(int, elf_pair[1].split(\"-\"))\n",
    "\n",
    "    if (x1 <= x2 <= y2 <= y1) or (x2 <= x1 <= y1 <= y2):\n",
    "        return True\n",
    "    return False"
   ]
  },
  {
   "cell_type": "code",
   "execution_count": 5,
   "metadata": {},
   "outputs": [
    {
     "name": "stdout",
     "output_type": "stream",
     "text": [
      "413\n"
     ]
    }
   ],
   "source": [
    "with open('day4.txt', 'r') as puzzle_input:\n",
    "    pairs: list[str] = puzzle_input.read().splitlines()\n",
    "    pairs: list[list[str]] = [(pair.split(',')) for pair in pairs]\n",
    "    pairs_fully_contained: int = [is_fully_contained(pair) for pair in pairs].count(True)\n",
    "    print(pairs_fully_contained)"
   ]
  },
  {
   "attachments": {},
   "cell_type": "markdown",
   "metadata": {},
   "source": [
    "## Puzzle 2\n",
    "### Problem\n",
    "It seems like there is still quite a bit of duplicate work planned. Instead, the Elves would like to know the number of pairs that overlap at all.\n",
    "\n",
    "In the above example, the first two pairs (2-4,6-8 and 2-3,4-5) don't overlap, while the remaining four pairs (5-7,7-9, 2-8,3-7, 6-6,4-6, and 2-6,4-8) do overlap:\n",
    "\n",
    "    5-7,7-9 overlaps in a single section, 7.\n",
    "    2-8,3-7 overlaps all of the sections 3 through 7.\n",
    "    6-6,4-6 overlaps in a single section, 6.\n",
    "    2-6,4-8 overlaps in sections 4, 5, and 6.\n",
    "\n",
    "So, in this example, the number of overlapping assignment pairs is 4.\n",
    "\n",
    "In how many assignment pairs do the ranges overlap?\n",
    "\n",
    "### Solution"
   ]
  },
  {
   "cell_type": "code",
   "execution_count": 7,
   "metadata": {},
   "outputs": [],
   "source": [
    "def is_overlap(elf_pair: list[str]):\n",
    "    '''Determines if one elf's range is overlapping the other'''\n",
    "    x1, y1 = map(int, elf_pair[0].split(\"-\"))\n",
    "    x2, y2 = map(int, elf_pair[1].split(\"-\"))\n",
    "\n",
    "    if (y1 >= x2 and y2 >= x1) or (y1 <= x2 and y2 <= x1):\n",
    "        return True\n",
    "    return False"
   ]
  },
  {
   "cell_type": "code",
   "execution_count": 6,
   "metadata": {},
   "outputs": [
    {
     "ename": "NameError",
     "evalue": "name 'is_overlap' is not defined",
     "output_type": "error",
     "traceback": [
      "\u001b[1;31m---------------------------------------------------------------------------\u001b[0m",
      "\u001b[1;31mNameError\u001b[0m                                 Traceback (most recent call last)",
      "Cell \u001b[1;32mIn[6], line 1\u001b[0m\n\u001b[1;32m----> 1\u001b[0m \u001b[39mprint\u001b[39m(is_overlap([\u001b[39m'\u001b[39m\u001b[39m5-7\u001b[39m\u001b[39m'\u001b[39m,\u001b[39m'\u001b[39m\u001b[39m7-9\u001b[39m\u001b[39m'\u001b[39m]))      \u001b[39m# True\u001b[39;00m\n\u001b[0;32m      2\u001b[0m \u001b[39mprint\u001b[39m(is_overlap([\u001b[39m'\u001b[39m\u001b[39m3-3\u001b[39m\u001b[39m'\u001b[39m,\u001b[39m'\u001b[39m\u001b[39m4-4\u001b[39m\u001b[39m'\u001b[39m]))      \u001b[39m# False\u001b[39;00m\n\u001b[0;32m      3\u001b[0m \u001b[39mprint\u001b[39m(is_overlap([\u001b[39m'\u001b[39m\u001b[39m10-40\u001b[39m\u001b[39m'\u001b[39m,\u001b[39m'\u001b[39m\u001b[39m50-87\u001b[39m\u001b[39m'\u001b[39m]))  \u001b[39m# False\u001b[39;00m\n",
      "\u001b[1;31mNameError\u001b[0m: name 'is_overlap' is not defined"
     ]
    }
   ],
   "source": [
    "print(is_overlap(['5-7','7-9']))      # True\n",
    "print(is_overlap(['3-3','4-4']))      # False\n",
    "print(is_overlap(['10-40','50-87']))  # False\n",
    "print(is_overlap(['30-37','36-83']))  # True\n",
    "print(is_overlap(['40-59','38-44']))  # True\n",
    "print(is_overlap(['33-39','32-34']))  # True\n",
    "print(is_overlap(['33-39','30-32']))  # False\n"
   ]
  },
  {
   "cell_type": "code",
   "execution_count": null,
   "metadata": {},
   "outputs": [],
   "source": [
    "with open('day4.txt', 'r') as puzzle_input:\n",
    "    pairs: list[str] = puzzle_input.read().splitlines()\n",
    "    pairs: list[list[str]] = [(pair.split(',')) for pair in pairs]\n",
    "    pairs_fully_contained: int = [is_overlap(pair) for pair in pairs].count(True)\n",
    "    print(pairs_fully_contained)"
   ]
  }
 ],
 "metadata": {
  "kernelspec": {
   "display_name": "advent-venv",
   "language": "python",
   "name": "python3"
  },
  "language_info": {
   "codemirror_mode": {
    "name": "ipython",
    "version": 3
   },
   "file_extension": ".py",
   "mimetype": "text/x-python",
   "name": "python",
   "nbconvert_exporter": "python",
   "pygments_lexer": "ipython3",
   "version": "3.10.6"
  },
  "orig_nbformat": 4,
  "vscode": {
   "interpreter": {
    "hash": "5e364cd240fdb9ffe2f831670ffd3691ac59888bca68a90b6ed4f18806f14362"
   }
  }
 },
 "nbformat": 4,
 "nbformat_minor": 2
}
